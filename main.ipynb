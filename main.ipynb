{
 "cells": [
  {
   "cell_type": "markdown",
   "metadata": {},
   "source": [
    "# 1. Import libraries"
   ]
  },
  {
   "cell_type": "code",
   "execution_count": 1,
   "metadata": {},
   "outputs": [],
   "source": [
    "from pyspark.sql import SparkSession\n",
    "from pyspark.sql.functions import col, sum, count, mean, expr\n",
    "\n",
    "from pyspark.ml.regression import LinearRegression\n",
    "from pyspark.ml.feature import VectorAssembler\n",
    "from pyspark.ml.evaluation import RegressionEvaluator\n",
    "\n",
    "# data visualization\n",
    "import plotly.graph_objects as go"
   ]
  },
  {
   "cell_type": "markdown",
   "metadata": {},
   "source": [
    "# 2. Spark Session Creation"
   ]
  },
  {
   "cell_type": "code",
   "execution_count": 2,
   "metadata": {},
   "outputs": [],
   "source": [
    "spark = SparkSession.builder.appName(\"VideoGameSalesAnalysis\").getOrCreate()"
   ]
  },
  {
   "cell_type": "markdown",
   "metadata": {},
   "source": [
    "# 3. Load data"
   ]
  },
  {
   "cell_type": "code",
   "execution_count": 3,
   "metadata": {},
   "outputs": [],
   "source": [
    "# path to data\n",
    "data_path = \"dataset/Video_Games_Sales_as_at_22_Dec_2016.csv\""
   ]
  },
  {
   "cell_type": "code",
   "execution_count": 4,
   "metadata": {},
   "outputs": [],
   "source": [
    "df_raw_data = spark.read.csv(data_path, header=True, inferSchema=True)"
   ]
  },
  {
   "cell_type": "markdown",
   "metadata": {},
   "source": [
    "# 4. Data Exloration"
   ]
  },
  {
   "cell_type": "markdown",
   "metadata": {},
   "source": [
    "## 4.1 Show top 5 rows"
   ]
  },
  {
   "cell_type": "code",
   "execution_count": 5,
   "metadata": {},
   "outputs": [
    {
     "name": "stdout",
     "output_type": "stream",
     "text": [
      "+--------------------+--------+---------------+------------+---------+--------+--------+--------+-----------+------------+------------+------------+----------+----------+---------+------+\n",
      "|                Name|Platform|Year_of_Release|       Genre|Publisher|NA_Sales|EU_Sales|JP_Sales|Other_Sales|Global_Sales|Critic_Score|Critic_Count|User_Score|User_Count|Developer|Rating|\n",
      "+--------------------+--------+---------------+------------+---------+--------+--------+--------+-----------+------------+------------+------------+----------+----------+---------+------+\n",
      "|          Wii Sports|     Wii|           2006|      Sports| Nintendo|   41.36|   28.96|    3.77|       8.45|       82.53|          76|          51|         8|       322| Nintendo|     E|\n",
      "|   Super Mario Bros.|     NES|           1985|    Platform| Nintendo|   29.08|    3.58|    6.81|       0.77|       40.24|        NULL|        NULL|      NULL|      NULL|     NULL|  NULL|\n",
      "|      Mario Kart Wii|     Wii|           2008|      Racing| Nintendo|   15.68|   12.76|    3.79|       3.29|       35.52|          82|          73|       8.3|       709| Nintendo|     E|\n",
      "|   Wii Sports Resort|     Wii|           2009|      Sports| Nintendo|   15.61|   10.93|    3.28|       2.95|       32.77|          80|          73|         8|       192| Nintendo|     E|\n",
      "|Pokemon Red/Pokem...|      GB|           1996|Role-Playing| Nintendo|   11.27|    8.89|   10.22|        1.0|       31.37|        NULL|        NULL|      NULL|      NULL|     NULL|  NULL|\n",
      "+--------------------+--------+---------------+------------+---------+--------+--------+--------+-----------+------------+------------+------------+----------+----------+---------+------+\n",
      "only showing top 5 rows\n",
      "\n"
     ]
    }
   ],
   "source": [
    "df_raw_data.show(5)"
   ]
  },
  {
   "cell_type": "markdown",
   "metadata": {},
   "source": [
    "## 4.2 Print schema"
   ]
  },
  {
   "cell_type": "code",
   "execution_count": 6,
   "metadata": {},
   "outputs": [
    {
     "name": "stdout",
     "output_type": "stream",
     "text": [
      "root\n",
      " |-- Name: string (nullable = true)\n",
      " |-- Platform: string (nullable = true)\n",
      " |-- Year_of_Release: string (nullable = true)\n",
      " |-- Genre: string (nullable = true)\n",
      " |-- Publisher: string (nullable = true)\n",
      " |-- NA_Sales: double (nullable = true)\n",
      " |-- EU_Sales: double (nullable = true)\n",
      " |-- JP_Sales: double (nullable = true)\n",
      " |-- Other_Sales: double (nullable = true)\n",
      " |-- Global_Sales: double (nullable = true)\n",
      " |-- Critic_Score: integer (nullable = true)\n",
      " |-- Critic_Count: integer (nullable = true)\n",
      " |-- User_Score: string (nullable = true)\n",
      " |-- User_Count: integer (nullable = true)\n",
      " |-- Developer: string (nullable = true)\n",
      " |-- Rating: string (nullable = true)\n",
      "\n"
     ]
    }
   ],
   "source": [
    "df_raw_data.printSchema()"
   ]
  },
  {
   "cell_type": "markdown",
   "metadata": {},
   "source": [
    "## 4.3 Summary of the data, like count, mean, min, max"
   ]
  },
  {
   "cell_type": "code",
   "execution_count": 7,
   "metadata": {},
   "outputs": [
    {
     "name": "stdout",
     "output_type": "stream",
     "text": [
      "+-------+--------------------+--------+------------------+--------+---------------+------------------+-------------------+-------------------+-------------------+------------------+-----------------+------------------+------------------+------------------+---------------+------+\n",
      "|summary|                Name|Platform|   Year_of_Release|   Genre|      Publisher|          NA_Sales|           EU_Sales|           JP_Sales|        Other_Sales|      Global_Sales|     Critic_Score|      Critic_Count|        User_Score|        User_Count|      Developer|Rating|\n",
      "+-------+--------------------+--------+------------------+--------+---------------+------------------+-------------------+-------------------+-------------------+------------------+-----------------+------------------+------------------+------------------+---------------+------+\n",
      "|  count|               16717|   16719|             16719|   16717|          16719|             16719|              16719|              16719|              16719|             16719|             8137|              8137|             10015|              7590|          10096|  9950|\n",
      "|   mean|              1942.0|  2600.0|2006.4873556231003|    NULL|           NULL|0.2633303427238687|0.14502482205876838|0.07760212931394815|0.04733177821639351|0.5335426759974459|68.96767850559173|26.360820941378886|7.1250461133070315|162.22990777338603|         2015.0|  NULL|\n",
      "| stddev|                NULL|     0.0|5.8789947683491475|    NULL|           NULL|0.8135138347516135|  0.503283296094214| 0.3088180805146385|0.18670989698947724|1.5479351247177755|13.93816455284329|18.980494534582064|1.5000060936257986| 561.2823262473789|           NULL|  NULL|\n",
      "|    min|      Beyblade Burst|    2600|              1980|  Action|10TACLE Studios|               0.0|                0.0|                0.0|                0.0|              0.01|               13|                 3|                 0|                 4|10tacle Studios|    AO|\n",
      "|    max|¡Shin Chan Flipa ...|    XOne|               N/A|Strategy|   responDESIGN|             41.36|              28.96|              10.22|              10.57|             82.53|               98|               113|               tbd|             10665|         zSlide|     T|\n",
      "+-------+--------------------+--------+------------------+--------+---------------+------------------+-------------------+-------------------+-------------------+------------------+-----------------+------------------+------------------+------------------+---------------+------+\n",
      "\n"
     ]
    }
   ],
   "source": [
    "df_raw_data.describe().show()"
   ]
  },
  {
   "cell_type": "markdown",
   "metadata": {},
   "source": [
    "## 4.4 Distinct count of each columns"
   ]
  },
  {
   "cell_type": "code",
   "execution_count": 8,
   "metadata": {},
   "outputs": [
    {
     "name": "stdout",
     "output_type": "stream",
     "text": [
      "Count Distinct Name: 11563\n",
      "Count Distinct Platform: 31\n",
      "Count Distinct Year_of_Release: 40\n",
      "Count Distinct Genre: 13\n",
      "Count Distinct Publisher: 582\n",
      "Count Distinct NA_Sales: 402\n",
      "Count Distinct EU_Sales: 307\n",
      "Count Distinct JP_Sales: 244\n",
      "Count Distinct Other_Sales: 155\n",
      "Count Distinct Global_Sales: 629\n",
      "Count Distinct Critic_Score: 83\n",
      "Count Distinct Critic_Count: 107\n",
      "Count Distinct User_Score: 97\n",
      "Count Distinct User_Count: 889\n",
      "Count Distinct Developer: 1697\n",
      "Count Distinct Rating: 9\n"
     ]
    }
   ],
   "source": [
    "for column in df_raw_data.columns:\n",
    "    col_cnt = df_raw_data.select(column).distinct().count()\n",
    "    print(f\"Count Distinct {column}: {col_cnt}\")"
   ]
  },
  {
   "cell_type": "markdown",
   "metadata": {},
   "source": [
    "## 4.4 Count of each columns without null values"
   ]
  },
  {
   "cell_type": "code",
   "execution_count": 9,
   "metadata": {},
   "outputs": [
    {
     "name": "stdout",
     "output_type": "stream",
     "text": [
      "+-----+--------+---------------+-----+---------+--------+--------+--------+-----------+------------+------------+------------+----------+----------+---------+------+\n",
      "| Name|Platform|Year_of_Release|Genre|Publisher|NA_Sales|EU_Sales|JP_Sales|Other_Sales|Global_Sales|Critic_Score|Critic_Count|User_Score|User_Count|Developer|Rating|\n",
      "+-----+--------+---------------+-----+---------+--------+--------+--------+-----------+------------+------------+------------+----------+----------+---------+------+\n",
      "|16717|   16719|          16719|16717|    16719|   16719|   16719|   16719|      16719|       16719|        8137|        8137|     10015|      7590|    10096|  9950|\n",
      "+-----+--------+---------------+-----+---------+--------+--------+--------+-----------+------------+------------+------------+----------+----------+---------+------+\n",
      "\n"
     ]
    }
   ],
   "source": [
    "not_null_counts = df_raw_data.select([sum((~col(c).isNull()).cast(\"int\")).alias(c) for c in df_raw_data.columns])\n",
    "not_null_counts.show()"
   ]
  },
  {
   "cell_type": "markdown",
   "metadata": {},
   "source": [
    "### 4.4.1 Plotting above ditribution in bar graph"
   ]
  },
  {
   "cell_type": "markdown",
   "metadata": {},
   "source": [
    "## "
   ]
  },
  {
   "cell_type": "code",
   "execution_count": 10,
   "metadata": {},
   "outputs": [
    {
     "data": {
      "application/vnd.plotly.v1+json": {
       "config": {
        "plotlyServerURL": "https://plot.ly"
       },
       "data": [
        {
         "name": "0",
         "type": "bar",
         "x": [
          "Name",
          "Platform",
          "Year_of_Release",
          "Genre",
          "Publisher",
          "NA_Sales",
          "EU_Sales",
          "JP_Sales",
          "Other_Sales",
          "Global_Sales",
          "Critic_Score",
          "Critic_Count",
          "User_Score",
          "User_Count",
          "Developer",
          "Rating"
         ],
         "y": [
          16717,
          16719,
          16719,
          16717,
          16719,
          16719,
          16719,
          16719,
          16719,
          16719,
          8137,
          8137,
          10015,
          7590,
          10096,
          9950
         ]
        }
       ],
       "layout": {
        "annotations": [
         {
          "showarrow": false,
          "text": "Upper Limit",
          "x": 1,
          "xanchor": "right",
          "xref": "x domain",
          "y": 16719,
          "yanchor": "bottom",
          "yref": "y"
         }
        ],
        "barmode": "stack",
        "colorway": [
         "rgb(0,68,27)",
         "rgb(0,109,44)",
         "rgb(35,139,69)",
         "rgb(65,171,93)",
         "rgb(116,196,118)",
         "rgb(161,217,155)",
         "rgb(199,233,192)",
         "rgb(229,245,224)",
         "rgb(247,252,245)"
        ],
        "shapes": [
         {
          "line": {
           "color": "darkgreen",
           "dash": "dash"
          },
          "type": "line",
          "x0": 0,
          "x1": 1,
          "xref": "x domain",
          "y0": 16719,
          "y1": 16719,
          "yref": "y"
         }
        ],
        "showlegend": false,
        "template": {
         "data": {
          "bar": [
           {
            "error_x": {
             "color": "#2a3f5f"
            },
            "error_y": {
             "color": "#2a3f5f"
            },
            "marker": {
             "line": {
              "color": "#E5ECF6",
              "width": 0.5
             },
             "pattern": {
              "fillmode": "overlay",
              "size": 10,
              "solidity": 0.2
             }
            },
            "type": "bar"
           }
          ],
          "barpolar": [
           {
            "marker": {
             "line": {
              "color": "#E5ECF6",
              "width": 0.5
             },
             "pattern": {
              "fillmode": "overlay",
              "size": 10,
              "solidity": 0.2
             }
            },
            "type": "barpolar"
           }
          ],
          "carpet": [
           {
            "aaxis": {
             "endlinecolor": "#2a3f5f",
             "gridcolor": "white",
             "linecolor": "white",
             "minorgridcolor": "white",
             "startlinecolor": "#2a3f5f"
            },
            "baxis": {
             "endlinecolor": "#2a3f5f",
             "gridcolor": "white",
             "linecolor": "white",
             "minorgridcolor": "white",
             "startlinecolor": "#2a3f5f"
            },
            "type": "carpet"
           }
          ],
          "choropleth": [
           {
            "colorbar": {
             "outlinewidth": 0,
             "ticks": ""
            },
            "type": "choropleth"
           }
          ],
          "contour": [
           {
            "colorbar": {
             "outlinewidth": 0,
             "ticks": ""
            },
            "colorscale": [
             [
              0,
              "#0d0887"
             ],
             [
              0.1111111111111111,
              "#46039f"
             ],
             [
              0.2222222222222222,
              "#7201a8"
             ],
             [
              0.3333333333333333,
              "#9c179e"
             ],
             [
              0.4444444444444444,
              "#bd3786"
             ],
             [
              0.5555555555555556,
              "#d8576b"
             ],
             [
              0.6666666666666666,
              "#ed7953"
             ],
             [
              0.7777777777777778,
              "#fb9f3a"
             ],
             [
              0.8888888888888888,
              "#fdca26"
             ],
             [
              1,
              "#f0f921"
             ]
            ],
            "type": "contour"
           }
          ],
          "contourcarpet": [
           {
            "colorbar": {
             "outlinewidth": 0,
             "ticks": ""
            },
            "type": "contourcarpet"
           }
          ],
          "heatmap": [
           {
            "colorbar": {
             "outlinewidth": 0,
             "ticks": ""
            },
            "colorscale": [
             [
              0,
              "#0d0887"
             ],
             [
              0.1111111111111111,
              "#46039f"
             ],
             [
              0.2222222222222222,
              "#7201a8"
             ],
             [
              0.3333333333333333,
              "#9c179e"
             ],
             [
              0.4444444444444444,
              "#bd3786"
             ],
             [
              0.5555555555555556,
              "#d8576b"
             ],
             [
              0.6666666666666666,
              "#ed7953"
             ],
             [
              0.7777777777777778,
              "#fb9f3a"
             ],
             [
              0.8888888888888888,
              "#fdca26"
             ],
             [
              1,
              "#f0f921"
             ]
            ],
            "type": "heatmap"
           }
          ],
          "heatmapgl": [
           {
            "colorbar": {
             "outlinewidth": 0,
             "ticks": ""
            },
            "colorscale": [
             [
              0,
              "#0d0887"
             ],
             [
              0.1111111111111111,
              "#46039f"
             ],
             [
              0.2222222222222222,
              "#7201a8"
             ],
             [
              0.3333333333333333,
              "#9c179e"
             ],
             [
              0.4444444444444444,
              "#bd3786"
             ],
             [
              0.5555555555555556,
              "#d8576b"
             ],
             [
              0.6666666666666666,
              "#ed7953"
             ],
             [
              0.7777777777777778,
              "#fb9f3a"
             ],
             [
              0.8888888888888888,
              "#fdca26"
             ],
             [
              1,
              "#f0f921"
             ]
            ],
            "type": "heatmapgl"
           }
          ],
          "histogram": [
           {
            "marker": {
             "pattern": {
              "fillmode": "overlay",
              "size": 10,
              "solidity": 0.2
             }
            },
            "type": "histogram"
           }
          ],
          "histogram2d": [
           {
            "colorbar": {
             "outlinewidth": 0,
             "ticks": ""
            },
            "colorscale": [
             [
              0,
              "#0d0887"
             ],
             [
              0.1111111111111111,
              "#46039f"
             ],
             [
              0.2222222222222222,
              "#7201a8"
             ],
             [
              0.3333333333333333,
              "#9c179e"
             ],
             [
              0.4444444444444444,
              "#bd3786"
             ],
             [
              0.5555555555555556,
              "#d8576b"
             ],
             [
              0.6666666666666666,
              "#ed7953"
             ],
             [
              0.7777777777777778,
              "#fb9f3a"
             ],
             [
              0.8888888888888888,
              "#fdca26"
             ],
             [
              1,
              "#f0f921"
             ]
            ],
            "type": "histogram2d"
           }
          ],
          "histogram2dcontour": [
           {
            "colorbar": {
             "outlinewidth": 0,
             "ticks": ""
            },
            "colorscale": [
             [
              0,
              "#0d0887"
             ],
             [
              0.1111111111111111,
              "#46039f"
             ],
             [
              0.2222222222222222,
              "#7201a8"
             ],
             [
              0.3333333333333333,
              "#9c179e"
             ],
             [
              0.4444444444444444,
              "#bd3786"
             ],
             [
              0.5555555555555556,
              "#d8576b"
             ],
             [
              0.6666666666666666,
              "#ed7953"
             ],
             [
              0.7777777777777778,
              "#fb9f3a"
             ],
             [
              0.8888888888888888,
              "#fdca26"
             ],
             [
              1,
              "#f0f921"
             ]
            ],
            "type": "histogram2dcontour"
           }
          ],
          "mesh3d": [
           {
            "colorbar": {
             "outlinewidth": 0,
             "ticks": ""
            },
            "type": "mesh3d"
           }
          ],
          "parcoords": [
           {
            "line": {
             "colorbar": {
              "outlinewidth": 0,
              "ticks": ""
             }
            },
            "type": "parcoords"
           }
          ],
          "pie": [
           {
            "automargin": true,
            "type": "pie"
           }
          ],
          "scatter": [
           {
            "fillpattern": {
             "fillmode": "overlay",
             "size": 10,
             "solidity": 0.2
            },
            "type": "scatter"
           }
          ],
          "scatter3d": [
           {
            "line": {
             "colorbar": {
              "outlinewidth": 0,
              "ticks": ""
             }
            },
            "marker": {
             "colorbar": {
              "outlinewidth": 0,
              "ticks": ""
             }
            },
            "type": "scatter3d"
           }
          ],
          "scattercarpet": [
           {
            "marker": {
             "colorbar": {
              "outlinewidth": 0,
              "ticks": ""
             }
            },
            "type": "scattercarpet"
           }
          ],
          "scattergeo": [
           {
            "marker": {
             "colorbar": {
              "outlinewidth": 0,
              "ticks": ""
             }
            },
            "type": "scattergeo"
           }
          ],
          "scattergl": [
           {
            "marker": {
             "colorbar": {
              "outlinewidth": 0,
              "ticks": ""
             }
            },
            "type": "scattergl"
           }
          ],
          "scattermapbox": [
           {
            "marker": {
             "colorbar": {
              "outlinewidth": 0,
              "ticks": ""
             }
            },
            "type": "scattermapbox"
           }
          ],
          "scatterpolar": [
           {
            "marker": {
             "colorbar": {
              "outlinewidth": 0,
              "ticks": ""
             }
            },
            "type": "scatterpolar"
           }
          ],
          "scatterpolargl": [
           {
            "marker": {
             "colorbar": {
              "outlinewidth": 0,
              "ticks": ""
             }
            },
            "type": "scatterpolargl"
           }
          ],
          "scatterternary": [
           {
            "marker": {
             "colorbar": {
              "outlinewidth": 0,
              "ticks": ""
             }
            },
            "type": "scatterternary"
           }
          ],
          "surface": [
           {
            "colorbar": {
             "outlinewidth": 0,
             "ticks": ""
            },
            "colorscale": [
             [
              0,
              "#0d0887"
             ],
             [
              0.1111111111111111,
              "#46039f"
             ],
             [
              0.2222222222222222,
              "#7201a8"
             ],
             [
              0.3333333333333333,
              "#9c179e"
             ],
             [
              0.4444444444444444,
              "#bd3786"
             ],
             [
              0.5555555555555556,
              "#d8576b"
             ],
             [
              0.6666666666666666,
              "#ed7953"
             ],
             [
              0.7777777777777778,
              "#fb9f3a"
             ],
             [
              0.8888888888888888,
              "#fdca26"
             ],
             [
              1,
              "#f0f921"
             ]
            ],
            "type": "surface"
           }
          ],
          "table": [
           {
            "cells": {
             "fill": {
              "color": "#EBF0F8"
             },
             "line": {
              "color": "white"
             }
            },
            "header": {
             "fill": {
              "color": "#C8D4E3"
             },
             "line": {
              "color": "white"
             }
            },
            "type": "table"
           }
          ]
         },
         "layout": {
          "annotationdefaults": {
           "arrowcolor": "#2a3f5f",
           "arrowhead": 0,
           "arrowwidth": 1
          },
          "autotypenumbers": "strict",
          "coloraxis": {
           "colorbar": {
            "outlinewidth": 0,
            "ticks": ""
           }
          },
          "colorscale": {
           "diverging": [
            [
             0,
             "#8e0152"
            ],
            [
             0.1,
             "#c51b7d"
            ],
            [
             0.2,
             "#de77ae"
            ],
            [
             0.3,
             "#f1b6da"
            ],
            [
             0.4,
             "#fde0ef"
            ],
            [
             0.5,
             "#f7f7f7"
            ],
            [
             0.6,
             "#e6f5d0"
            ],
            [
             0.7,
             "#b8e186"
            ],
            [
             0.8,
             "#7fbc41"
            ],
            [
             0.9,
             "#4d9221"
            ],
            [
             1,
             "#276419"
            ]
           ],
           "sequential": [
            [
             0,
             "#0d0887"
            ],
            [
             0.1111111111111111,
             "#46039f"
            ],
            [
             0.2222222222222222,
             "#7201a8"
            ],
            [
             0.3333333333333333,
             "#9c179e"
            ],
            [
             0.4444444444444444,
             "#bd3786"
            ],
            [
             0.5555555555555556,
             "#d8576b"
            ],
            [
             0.6666666666666666,
             "#ed7953"
            ],
            [
             0.7777777777777778,
             "#fb9f3a"
            ],
            [
             0.8888888888888888,
             "#fdca26"
            ],
            [
             1,
             "#f0f921"
            ]
           ],
           "sequentialminus": [
            [
             0,
             "#0d0887"
            ],
            [
             0.1111111111111111,
             "#46039f"
            ],
            [
             0.2222222222222222,
             "#7201a8"
            ],
            [
             0.3333333333333333,
             "#9c179e"
            ],
            [
             0.4444444444444444,
             "#bd3786"
            ],
            [
             0.5555555555555556,
             "#d8576b"
            ],
            [
             0.6666666666666666,
             "#ed7953"
            ],
            [
             0.7777777777777778,
             "#fb9f3a"
            ],
            [
             0.8888888888888888,
             "#fdca26"
            ],
            [
             1,
             "#f0f921"
            ]
           ]
          },
          "colorway": [
           "#636efa",
           "#EF553B",
           "#00cc96",
           "#ab63fa",
           "#FFA15A",
           "#19d3f3",
           "#FF6692",
           "#B6E880",
           "#FF97FF",
           "#FECB52"
          ],
          "font": {
           "color": "#2a3f5f"
          },
          "geo": {
           "bgcolor": "white",
           "lakecolor": "white",
           "landcolor": "#E5ECF6",
           "showlakes": true,
           "showland": true,
           "subunitcolor": "white"
          },
          "hoverlabel": {
           "align": "left"
          },
          "hovermode": "closest",
          "mapbox": {
           "style": "light"
          },
          "paper_bgcolor": "white",
          "plot_bgcolor": "#E5ECF6",
          "polar": {
           "angularaxis": {
            "gridcolor": "white",
            "linecolor": "white",
            "ticks": ""
           },
           "bgcolor": "#E5ECF6",
           "radialaxis": {
            "gridcolor": "white",
            "linecolor": "white",
            "ticks": ""
           }
          },
          "scene": {
           "xaxis": {
            "backgroundcolor": "#E5ECF6",
            "gridcolor": "white",
            "gridwidth": 2,
            "linecolor": "white",
            "showbackground": true,
            "ticks": "",
            "zerolinecolor": "white"
           },
           "yaxis": {
            "backgroundcolor": "#E5ECF6",
            "gridcolor": "white",
            "gridwidth": 2,
            "linecolor": "white",
            "showbackground": true,
            "ticks": "",
            "zerolinecolor": "white"
           },
           "zaxis": {
            "backgroundcolor": "#E5ECF6",
            "gridcolor": "white",
            "gridwidth": 2,
            "linecolor": "white",
            "showbackground": true,
            "ticks": "",
            "zerolinecolor": "white"
           }
          },
          "shapedefaults": {
           "line": {
            "color": "#2a3f5f"
           }
          },
          "ternary": {
           "aaxis": {
            "gridcolor": "white",
            "linecolor": "white",
            "ticks": ""
           },
           "baxis": {
            "gridcolor": "white",
            "linecolor": "white",
            "ticks": ""
           },
           "bgcolor": "#E5ECF6",
           "caxis": {
            "gridcolor": "white",
            "linecolor": "white",
            "ticks": ""
           }
          },
          "title": {
           "x": 0.05
          },
          "xaxis": {
           "automargin": true,
           "gridcolor": "white",
           "linecolor": "white",
           "ticks": "",
           "title": {
            "standoff": 15
           },
           "zerolinecolor": "white",
           "zerolinewidth": 2
          },
          "yaxis": {
           "automargin": true,
           "gridcolor": "white",
           "linecolor": "white",
           "ticks": "",
           "title": {
            "standoff": 15
           },
           "zerolinecolor": "white",
           "zerolinewidth": 2
          }
         }
        },
        "title": {
         "text": "Product Value Counts in Columns"
        },
        "xaxis": {
         "title": {
          "text": "Columns"
         }
        },
        "yaxis": {
         "title": {
          "text": "Number of Null Values"
         }
        }
       }
      }
     },
     "metadata": {},
     "output_type": "display_data"
    }
   ],
   "source": [
    "import plotly.express as px\n",
    "# Convert the PySpark DataFrame to Pandas DataFrame and transpose it\n",
    "not_null_counts_pandas = not_null_counts.toPandas().transpose()\n",
    "\n",
    "# Create the bar plot using Plotly\n",
    "fig = go.Figure()\n",
    "\n",
    "# Adding bar traces for each column in the transposed DataFrame\n",
    "for column in not_null_counts_pandas.columns:\n",
    "    fig.add_trace(go.Bar(\n",
    "        x=not_null_counts_pandas.index,\n",
    "        y=not_null_counts_pandas[column],\n",
    "        name=column\n",
    "    ))\n",
    "\n",
    "# Customizing the layout\n",
    "fig.update_layout(\n",
    "    barmode='stack',\n",
    "    title=\"Product Value Counts in Columns\",\n",
    "    xaxis_title=\"Columns\",\n",
    "    yaxis_title=\"Number of Null Values\",\n",
    "    template='plotly',\n",
    "    showlegend=False,\n",
    "    colorway=px.colors.sequential.Greens_r\n",
    ")\n",
    "\n",
    "# Adding the upper limit line\n",
    "upper_limit = df_raw_data.count()\n",
    "fig.add_hline(y=upper_limit, line_dash=\"dash\", line_color=\"darkgreen\", annotation_text=\"Upper Limit\", annotation_position=\"top right\")\n",
    "\n",
    "# Show the plot\n",
    "fig.show()\n"
   ]
  },
  {
   "cell_type": "markdown",
   "metadata": {},
   "source": [
    "# 5. Data Cleaning and Preprocessing"
   ]
  },
  {
   "cell_type": "markdown",
   "metadata": {},
   "source": [
    "## 5.1 Missing Values:"
   ]
  },
  {
   "cell_type": "markdown",
   "metadata": {},
   "source": [
    "### 5.1.1 Identify Missing Values:"
   ]
  },
  {
   "cell_type": "code",
   "execution_count": 11,
   "metadata": {},
   "outputs": [
    {
     "name": "stdout",
     "output_type": "stream",
     "text": [
      "+-----+--------+---------------+-----+---------+--------+--------+--------+-----------+------------+------------+------------+----------+----------+---------+------+\n",
      "| Name|Platform|Year_of_Release|Genre|Publisher|NA_Sales|EU_Sales|JP_Sales|Other_Sales|Global_Sales|Critic_Score|Critic_Count|User_Score|User_Count|Developer|Rating|\n",
      "+-----+--------+---------------+-----+---------+--------+--------+--------+-----------+------------+------------+------------+----------+----------+---------+------+\n",
      "|16717|   16719|          16719|16717|    16719|   16719|   16719|   16719|      16719|       16719|        8137|        8137|     10015|      7590|    10096|  9950|\n",
      "+-----+--------+---------------+-----+---------+--------+--------+--------+-----------+------------+------------+------------+----------+----------+---------+------+\n",
      "\n"
     ]
    }
   ],
   "source": [
    "not_null_counts = df_raw_data.select([sum((~col(c).isNull()).cast(\"int\")).alias(c) for c in df_raw_data.columns])\n",
    "not_null_counts.show()"
   ]
  },
  {
   "cell_type": "markdown",
   "metadata": {},
   "source": [
    "### 5.1.2 Handling Missing Values (Example - Mean Imputation for Numerical Features):"
   ]
  },
  {
   "cell_type": "code",
   "execution_count": 12,
   "metadata": {},
   "outputs": [
    {
     "name": "stdout",
     "output_type": "stream",
     "text": [
      "Mode Developer: Unknown\n",
      "Mode Rating: Unknown\n",
      "+--------------------+--------+---------------+------------+--------------------+--------+--------+--------+-----------+------------+------------+------------+------------------+----------+-------------------+-------+\n",
      "|                Name|Platform|Year_of_Release|       Genre|           Publisher|NA_Sales|EU_Sales|JP_Sales|Other_Sales|Global_Sales|Critic_Score|Critic_Count|        User_Score|User_Count|          Developer| Rating|\n",
      "+--------------------+--------+---------------+------------+--------------------+--------+--------+--------+-----------+------------+------------+------------+------------------+----------+-------------------+-------+\n",
      "|          Wii Sports|     Wii|           2006|      Sports|            Nintendo|   41.36|   28.96|    3.77|       8.45|       82.53|          76|          51|                 8|       322|           Nintendo|      E|\n",
      "|   Super Mario Bros.|     NES|           1985|    Platform|            Nintendo|   29.08|    3.58|    6.81|       0.77|       40.24|          68|          21|7.1250461133070315|        24|            Unknown|Unknown|\n",
      "|      Mario Kart Wii|     Wii|           2008|      Racing|            Nintendo|   15.68|   12.76|    3.79|       3.29|       35.52|          82|          73|               8.3|       709|           Nintendo|      E|\n",
      "|   Wii Sports Resort|     Wii|           2009|      Sports|            Nintendo|   15.61|   10.93|    3.28|       2.95|       32.77|          80|          73|                 8|       192|           Nintendo|      E|\n",
      "|Pokemon Red/Pokem...|      GB|           1996|Role-Playing|            Nintendo|   11.27|    8.89|   10.22|        1.0|       31.37|          68|          21|7.1250461133070315|        24|            Unknown|Unknown|\n",
      "|              Tetris|      GB|           1989|      Puzzle|            Nintendo|    23.2|    2.26|    4.22|       0.58|       30.26|          68|          21|7.1250461133070315|        24|            Unknown|Unknown|\n",
      "|New Super Mario B...|      DS|           2006|    Platform|            Nintendo|   11.28|    9.14|     6.5|       2.88|        29.8|          89|          65|               8.5|       431|           Nintendo|      E|\n",
      "|            Wii Play|     Wii|           2006|        Misc|            Nintendo|   13.96|    9.18|    2.93|       2.84|       28.92|          58|          41|               6.6|       129|           Nintendo|      E|\n",
      "|New Super Mario B...|     Wii|           2009|    Platform|            Nintendo|   14.44|    6.94|     4.7|       2.24|       28.32|          87|          80|               8.4|       594|           Nintendo|      E|\n",
      "|           Duck Hunt|     NES|           1984|     Shooter|            Nintendo|   26.93|    0.63|    0.28|       0.47|       28.31|          68|          21|7.1250461133070315|        24|            Unknown|Unknown|\n",
      "|          Nintendogs|      DS|           2005|  Simulation|            Nintendo|    9.05|   10.95|    1.93|       2.74|       24.67|          68|          21|7.1250461133070315|        24|            Unknown|Unknown|\n",
      "|       Mario Kart DS|      DS|           2005|      Racing|            Nintendo|    9.71|    7.47|    4.13|        1.9|       23.21|          91|          64|               8.6|       464|           Nintendo|      E|\n",
      "|Pokemon Gold/Poke...|      GB|           1999|Role-Playing|            Nintendo|     9.0|    6.18|     7.2|       0.71|        23.1|          68|          21|7.1250461133070315|        24|            Unknown|Unknown|\n",
      "|             Wii Fit|     Wii|           2007|      Sports|            Nintendo|    8.92|    8.03|     3.6|       2.15|        22.7|          80|          63|               7.7|       146|           Nintendo|      E|\n",
      "|  Kinect Adventures!|    X360|           2010|        Misc|Microsoft Game St...|    15.0|    4.89|    0.24|       1.69|       21.81|          61|          45|               6.3|       106|Good Science Studio|      E|\n",
      "|        Wii Fit Plus|     Wii|           2009|      Sports|            Nintendo|    9.01|    8.49|    2.53|       1.77|       21.79|          80|          33|               7.4|        52|           Nintendo|      E|\n",
      "|  Grand Theft Auto V|     PS3|           2013|      Action|Take-Two Interactive|    7.02|    9.09|    0.98|       3.96|       21.04|          97|          50|               8.2|      3994|     Rockstar North|      M|\n",
      "|Grand Theft Auto:...|     PS2|           2004|      Action|Take-Two Interactive|    9.43|     0.4|    0.41|      10.57|       20.81|          95|          80|                 9|      1588|     Rockstar North|      M|\n",
      "|   Super Mario World|    SNES|           1990|    Platform|            Nintendo|   12.78|    3.75|    3.54|       0.55|       20.61|          68|          21|7.1250461133070315|        24|            Unknown|Unknown|\n",
      "|Brain Age: Train ...|      DS|           2005|        Misc|            Nintendo|    4.74|     9.2|    4.16|       2.04|       20.15|          77|          58|               7.9|        50|           Nintendo|      E|\n",
      "+--------------------+--------+---------------+------------+--------------------+--------+--------+--------+-----------+------------+------------+------------+------------------+----------+-------------------+-------+\n",
      "only showing top 20 rows\n",
      "\n"
     ]
    }
   ],
   "source": [
    "\n",
    "# Fill Critic_Score and User_Score with their respective means\n",
    "mean_critic_score = df_raw_data.select(mean(col('Critic_Score'))).collect()[0][0]\n",
    "mean_user_score = df_raw_data.select(mean(col('User_Score'))).collect()[0][0]\n",
    "df_filled_scores = df_raw_data.fillna({'Critic_Score': mean_critic_score, 'User_Score': mean_user_score})\n",
    "\n",
    "# Fill Critic_Count and User_Count with their respective medians\n",
    "median_critic_count = df_filled_scores.select(expr('percentile_approx(Critic_Count, 0.5)').alias('median')).collect()[0][0]\n",
    "median_user_count = df_filled_scores.select(expr('percentile_approx(User_Count, 0.5)').alias('median')).collect()[0][0]\n",
    "df_filled_counts = df_filled_scores.fillna({'Critic_Count': median_critic_count, 'User_Count': median_user_count})\n",
    "\n",
    "# Fill Developer with the mode or \"Unknown\"\n",
    "mode_developer_row = df_filled_counts.groupBy('Developer').agg(count('*').alias('count')).orderBy('count', ascending=False).first()\n",
    "mode_developer = mode_developer_row[0] if mode_developer_row and mode_developer_row[0] is not None else 'Unknown'\n",
    "print(f\"Mode Developer: {mode_developer}\")\n",
    "df_filled_developer = df_filled_counts.fillna({'Developer': mode_developer})\n",
    "\n",
    "# Fill Rating with the mode or \"Unknown\"\n",
    "mode_rating_row = df_filled_developer.groupBy('Rating').agg(count('*').alias('count')).orderBy('count', ascending=False).first()\n",
    "mode_rating = mode_rating_row[0] if mode_rating_row and mode_rating_row[0] is not None else 'Unknown'\n",
    "print(f\"Mode Rating: {mode_rating}\")\n",
    "df_cleaned = df_filled_developer.fillna({'Rating': mode_rating})\n",
    "\n",
    "# Show the cleaned DataFrame\n",
    "df_cleaned.show()\n"
   ]
  },
  {
   "cell_type": "code",
   "execution_count": 13,
   "metadata": {},
   "outputs": [
    {
     "name": "stdout",
     "output_type": "stream",
     "text": [
      "+-----+--------+---------------+-----+---------+--------+--------+--------+-----------+------------+------------+------------+----------+----------+---------+------+\n",
      "| Name|Platform|Year_of_Release|Genre|Publisher|NA_Sales|EU_Sales|JP_Sales|Other_Sales|Global_Sales|Critic_Score|Critic_Count|User_Score|User_Count|Developer|Rating|\n",
      "+-----+--------+---------------+-----+---------+--------+--------+--------+-----------+------------+------------+------------+----------+----------+---------+------+\n",
      "|16717|   16719|          16719|16717|    16719|   16719|   16719|   16719|      16719|       16719|       16719|       16719|     16719|     16719|    16719| 16719|\n",
      "+-----+--------+---------------+-----+---------+--------+--------+--------+-----------+------------+------------+------------+----------+----------+---------+------+\n",
      "\n"
     ]
    }
   ],
   "source": [
    "df_cleaned_not_null_counts = df_cleaned.select([sum((~col(c).isNull()).cast(\"int\")).alias(c) for c in df_cleaned.columns])\n",
    "df_cleaned_not_null_counts.show()"
   ]
  },
  {
   "cell_type": "code",
   "execution_count": 14,
   "metadata": {},
   "outputs": [
    {
     "name": "stdout",
     "output_type": "stream",
     "text": [
      "root\n",
      " |-- Name: string (nullable = true)\n",
      " |-- Platform: string (nullable = true)\n",
      " |-- Year_of_Release: string (nullable = true)\n",
      " |-- Genre: string (nullable = true)\n",
      " |-- Publisher: string (nullable = true)\n",
      " |-- NA_Sales: double (nullable = true)\n",
      " |-- EU_Sales: double (nullable = true)\n",
      " |-- JP_Sales: double (nullable = true)\n",
      " |-- Other_Sales: double (nullable = true)\n",
      " |-- Global_Sales: double (nullable = true)\n",
      " |-- Critic_Score: integer (nullable = true)\n",
      " |-- Critic_Count: integer (nullable = false)\n",
      " |-- User_Score: string (nullable = false)\n",
      " |-- User_Count: integer (nullable = false)\n",
      " |-- Developer: string (nullable = false)\n",
      " |-- Rating: string (nullable = false)\n",
      "\n"
     ]
    }
   ],
   "source": [
    "df_cleaned.printSchema()"
   ]
  },
  {
   "cell_type": "markdown",
   "metadata": {},
   "source": [
    "# 6. Regression Analysis"
   ]
  },
  {
   "cell_type": "code",
   "execution_count": 17,
   "metadata": {},
   "outputs": [
    {
     "name": "stdout",
     "output_type": "stream",
     "text": [
      "+--------------------+------------+\n",
      "|            features|Global_Sales|\n",
      "+--------------------+------------+\n",
      "|   [76.0,8.0,2006.0]|       82.53|\n",
      "|[68.0,7.125046113...|       40.24|\n",
      "|   [82.0,8.3,2008.0]|       35.52|\n",
      "|   [80.0,8.0,2009.0]|       32.77|\n",
      "|[68.0,7.125046113...|       31.37|\n",
      "|[68.0,7.125046113...|       30.26|\n",
      "|   [89.0,8.5,2006.0]|        29.8|\n",
      "|   [58.0,6.6,2006.0]|       28.92|\n",
      "|   [87.0,8.4,2009.0]|       28.32|\n",
      "|[68.0,7.125046113...|       28.31|\n",
      "|[68.0,7.125046113...|       24.67|\n",
      "|   [91.0,8.6,2005.0]|       23.21|\n",
      "|[68.0,7.125046113...|        23.1|\n",
      "|   [80.0,7.7,2007.0]|        22.7|\n",
      "|   [61.0,6.3,2010.0]|       21.81|\n",
      "|   [80.0,7.4,2009.0]|       21.79|\n",
      "|   [97.0,8.2,2013.0]|       21.04|\n",
      "|   [95.0,9.0,2004.0]|       20.81|\n",
      "|[68.0,7.125046113...|       20.61|\n",
      "|   [77.0,7.9,2005.0]|       20.15|\n",
      "+--------------------+------------+\n",
      "only showing top 20 rows\n",
      "\n"
     ]
    },
    {
     "ename": "NameError",
     "evalue": "name 'evaluator' is not defined",
     "output_type": "error",
     "traceback": [
      "\u001b[1;31m---------------------------------------------------------------------------\u001b[0m",
      "\u001b[1;31mNameError\u001b[0m                                 Traceback (most recent call last)",
      "Cell \u001b[1;32mIn[17], line 29\u001b[0m\n\u001b[0;32m     26\u001b[0m predictions \u001b[38;5;241m=\u001b[39m lr_model\u001b[38;5;241m.\u001b[39mtransform(test_data)\n\u001b[0;32m     28\u001b[0m \u001b[38;5;66;03m# evaluator = RegressionEvaluator(labelCol='Global_Sales', predictionCol='prediction')\u001b[39;00m\n\u001b[1;32m---> 29\u001b[0m rmse \u001b[38;5;241m=\u001b[39m \u001b[43mevaluator\u001b[49m\u001b[38;5;241m.\u001b[39mevaluate(predictions, {evaluator\u001b[38;5;241m.\u001b[39mmetricName: \u001b[38;5;124m'\u001b[39m\u001b[38;5;124mrmse\u001b[39m\u001b[38;5;124m'\u001b[39m})\n\u001b[0;32m     30\u001b[0m r2 \u001b[38;5;241m=\u001b[39m evaluator\u001b[38;5;241m.\u001b[39mevaluate(predictions, {evaluator\u001b[38;5;241m.\u001b[39mmetricName: \u001b[38;5;124m'\u001b[39m\u001b[38;5;124mr2\u001b[39m\u001b[38;5;124m'\u001b[39m})\n\u001b[0;32m     32\u001b[0m \u001b[38;5;66;03m# print(f'Root Mean Squared Error (RMSE): {rmse}')\u001b[39;00m\n",
      "\u001b[1;31mNameError\u001b[0m: name 'evaluator' is not defined"
     ]
    }
   ],
   "source": [
    "from pyspark.sql.functions import col, when\n",
    "\n",
    "# Convert User_Score and Year_of_Release to numerical data types\n",
    "df_cleaned = df_cleaned.withColumn('User_Score', when(col('User_Score').cast('double').isNotNull(), col('User_Score').cast('double')).otherwise(0.0))\n",
    "df_cleaned = df_cleaned.withColumn('Year_of_Release', when(col('Year_of_Release').cast('int').isNotNull(), col('Year_of_Release').cast('int')).otherwise(0))\n",
    "\n",
    "# Verify the data types\n",
    "# df_cleaned.printSchema()\n",
    "\n",
    "# Prepare features and label\n",
    "feature_columns = ['Critic_Score', 'User_Score', 'Year_of_Release']\n",
    "assembler = VectorAssembler(inputCols=feature_columns, outputCol='features')\n",
    "data_prepared = assembler.transform(df_cleaned).select('features', 'Global_Sales')\n",
    "\n",
    "# Show prepared data to ensure it's correct\n",
    "# data_prepared.show()\n",
    "\n",
    "# Split the data into training and test sets\n",
    "train_data, test_data = data_prepared.randomSplit([0.8, 0.2], seed=42)\n",
    "\n",
    "# Initialize and train the model\n",
    "lr = LinearRegression(featuresCol='features', labelCol='Global_Sales', predictionCol=\"predicted_sales\")\n",
    "lr_model = lr.fit(train_data)\n",
    "\n",
    "# # Make predictions\n",
    "predictions = lr_model.transform(test_data)\n",
    "\n",
    "# evaluator = RegressionEvaluator(labelCol='Global_Sales', predictionCol='prediction')\n",
    "rmse = evaluator.evaluate(predictions, {evaluator.metricName: 'rmse'})\n",
    "r2 = evaluator.evaluate(predictions, {evaluator.metricName: 'r2'})\n",
    "\n",
    "# print(f'Root Mean Squared Error (RMSE): {rmse}')\n",
    "print(f'R-squared (R2): {r2}')\n"
   ]
  },
  {
   "cell_type": "markdown",
   "metadata": {},
   "source": [
    "# Stop Spark Session"
   ]
  },
  {
   "cell_type": "code",
   "execution_count": null,
   "metadata": {},
   "outputs": [],
   "source": [
    "# spark.stop()"
   ]
  }
 ],
 "metadata": {
  "kernelspec": {
   "display_name": "Python 3",
   "language": "python",
   "name": "python3"
  },
  "language_info": {
   "codemirror_mode": {
    "name": "ipython",
    "version": 3
   },
   "file_extension": ".py",
   "mimetype": "text/x-python",
   "name": "python",
   "nbconvert_exporter": "python",
   "pygments_lexer": "ipython3",
   "version": "3.11.5"
  }
 },
 "nbformat": 4,
 "nbformat_minor": 2
}
